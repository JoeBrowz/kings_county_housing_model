{
 "cells": [
  {
   "cell_type": "code",
   "execution_count": 305,
   "metadata": {},
   "outputs": [],
   "source": [
    "import pandas as pd\n",
    "import numpy as np\n",
    "import matplotlib.pyplot as plt\n",
    "import seaborn as sns\n",
    "from scipy import stats\n",
    "import math\n",
    "from sklearn.preprocessing import StandardScaler\n",
    "from statsmodels.formula.api import ols\n",
    "from sklearn.preprocessing import PolynomialFeatures\n",
    "from sklearn.linear_model import LinearRegression\n",
    "from sklearn import linear_model\n",
    "from sklearn.model_selection import train_test_split\n",
    "from sklearn import metrics\n",
    "from statsmodels.stats.outliers_influence import variance_inflation_factor\n",
    "from sklearn.feature_selection import SelectKBest, f_regression,mutual_info_regression\n",
    "from sklearn.feature_selection import RFECV\n",
    "from sklearn.linear_model import Lasso\n",
    "import censusgeocode as cg\n",
    "import sklearn\n",
    "import pickle\n",
    "\n",
    "sns.set(style=\"darkgrid\")\n",
    "\n",
    "pd.set_option('display.max_columns', 100)\n",
    "pd.set_option('display.max_rows', 100)"
   ]
  },
  {
   "cell_type": "markdown",
   "metadata": {},
   "source": [
    "## Step 1: Read in hold out data, scalers, and best model"
   ]
  },
  {
   "cell_type": "code",
   "execution_count": 306,
   "metadata": {},
   "outputs": [],
   "source": [
    "holdout = pd.read_csv('provided_data/kc_house_data_test_features.csv', index_col=0)"
   ]
  },
  {
   "cell_type": "code",
   "execution_count": 295,
   "metadata": {},
   "outputs": [],
   "source": [
    "#load scaler\n",
    "file = open('pickle_jar/scaler.pkl', 'rb')\n",
    "final_scaler = pickle.load(file)\n",
    "file.close()\n",
    "\n",
    "#load model\n",
    "file = open('pickle_jar/model.pkl', 'rb')\n",
    "final_model = pickle.load(file)\n",
    "file.close()"
   ]
  },
  {
   "cell_type": "markdown",
   "metadata": {},
   "source": [
    "## Step 2: Feature Engineering for holdout set"
   ]
  },
  {
   "cell_type": "markdown",
   "metadata": {},
   "source": [
    "Remember we have to perform the same transformations on our holdout data (feature engineering, extreme values, and scaling) that we performed on the original data."
   ]
  },
  {
   "cell_type": "code",
   "execution_count": 296,
   "metadata": {},
   "outputs": [],
   "source": [
    "holdout['shack_living'] = np.where(holdout['sqft_living']/holdout['sqft_lot'] < .2, 1, 0)\n",
    "\n",
    "holdout['bedrooms'] = holdout['bedrooms'].replace({11:4, 33:3})\n",
    "\n",
    "holdout['yrs_old'] = 2020-holdout.yr_built\n",
    "\n",
    "holdout['age_feature'] = (holdout['yrs_old'] - 57)**2\n",
    "\n",
    "holdout['grade_exp'] = np.exp(holdout['grade'])\n",
    "\n",
    "holdout['date'] = pd.to_datetime(holdout['date'], format=\"%Y%m%dT000000\")\n",
    "\n",
    "holdout['season'] = (holdout.date.dt.month%12 + 3)//3\n",
    "\n",
    "holdout['grade_exp'] = np.exp(holdout['grade'])\n",
    "\n",
    "holdout['has_basement'] = np.where(holdout['sqft_basement'] == 0, 0, 1)"
   ]
  },
  {
   "cell_type": "code",
   "execution_count": 297,
   "metadata": {},
   "outputs": [],
   "source": [
    "# def distance_to(lat1, lon1, lat2, lon2):\n",
    "#    r = 6371\n",
    "#    phi1 = np.radians(lat1)\n",
    "#    phi2 = np.radians(lat2)\n",
    "#    delta_phi = np.radians(lat2 - lat1)\n",
    "#    delta_lambda = np.radians(lon2 - lon1)\n",
    "#    a = np.sin(delta_phi / 2)**2 + np.cos(phi1) * np.cos(phi2) *   np.sin(delta_lambda / 2)**2\n",
    "#    res = r * (2 * np.arctan2(np.sqrt(a), np.sqrt(1 - a)))\n",
    "#    return np.round(res, 2)\n",
    "\n",
    "# amzn_hdqt = (47.623583541669845, -122.33669143795257)\n",
    "# msft_hdqt = 47.641489, -122.134503\n",
    "\n",
    "# dist_msft, dist_amzn = [], []\n",
    "# for row in holdout.itertuples(index=False):\n",
    "#     dist_amzn.append(distance_to(row.lat, row.long, amzn_hdqt[0], amzn_hdqt[1]))\n",
    "#     dist_msft.append(distance_to(row.lat, row.long, msft_hdqt[0], msft_hdqt[1]))\n",
    "# holdout['dist_amzn'] = dist_amzn\n",
    "# holdout['dist_msft'] = dist_msft\n",
    "\n",
    "# holdout.head()"
   ]
  },
  {
   "cell_type": "code",
   "execution_count": 298,
   "metadata": {},
   "outputs": [],
   "source": [
    "conditions = [holdout['condition']<= 2, holdout['condition'].isin(range(3, 5)), holdout['condition'] == 5]\n",
    "choices = ['busted', 'aight', 'dope']\n",
    "\n",
    "holdout['cond_cat'] = np.select(conditions, choices, default = 'missing')"
   ]
  },
  {
   "cell_type": "code",
   "execution_count": 299,
   "metadata": {},
   "outputs": [],
   "source": [
    "season_dum = pd.get_dummies(holdout['season'], prefix='sn', drop_first=True)\n",
    "zipcode_dum = pd.get_dummies(holdout['zipcode'], prefix='zp', drop_first=True)\n",
    "cond_dum = pd.get_dummies(holdout['cond_cat'], prefix='condtn', drop_first=True)\n",
    "holdout = pd.concat([holdout, cond_dum, zipcode_dum, season_dum], 1)"
   ]
  },
  {
   "cell_type": "code",
   "execution_count": 300,
   "metadata": {},
   "outputs": [],
   "source": [
    "leave_out = ['id', 'date', 'season', 'price', 'cond_cat', 'sqft_lot', \n",
    "             'floors', 'view', 'condition', 'grade', 'sqft_above', \n",
    "             'sqft_basement', 'yr_built', 'yr_renovated', 'zipcode', 'lat', 'long', 'sqft_living15', 'last_const']\n",
    "features = [x for x in holdout.columns if x not in leave_out]"
   ]
  },
  {
   "cell_type": "code",
   "execution_count": 301,
   "metadata": {},
   "outputs": [],
   "source": [
    "poly_2 = PolynomialFeatures(degree=2, include_bias=False)\n",
    "poly2_data = poly_2.fit_transform(holdout[features])\n",
    "poly2_columns = poly_2.get_feature_names(holdout[features].columns)\n",
    "holdout_poly2 = pd.DataFrame(poly2_data, columns = poly2_columns)"
   ]
  },
  {
   "cell_type": "code",
   "execution_count": 302,
   "metadata": {},
   "outputs": [
    {
     "data": {
      "text/plain": [
       "(4323, 3654)"
      ]
     },
     "execution_count": 302,
     "metadata": {},
     "output_type": "execute_result"
    }
   ],
   "source": [
    "holdout_poly2.shape"
   ]
  },
  {
   "cell_type": "code",
   "execution_count": 303,
   "metadata": {},
   "outputs": [],
   "source": [
    "transformed_holdout = final_scaler.transform(holdout_poly2)"
   ]
  },
  {
   "cell_type": "markdown",
   "metadata": {},
   "source": [
    "## Step 3: Predict the holdout set"
   ]
  },
  {
   "cell_type": "code",
   "execution_count": 304,
   "metadata": {},
   "outputs": [],
   "source": [
    "final_answers = final_model.predict(transformed_holdout)\n",
    "# final_model"
   ]
  },
  {
   "cell_type": "markdown",
   "metadata": {},
   "source": [
    "## Step 4: Export your predictions"
   ]
  },
  {
   "cell_type": "code",
   "execution_count": 292,
   "metadata": {},
   "outputs": [],
   "source": [
    "pd.DataFrame(final_answers).to_csv('housing_preds_joe_marx.csv')"
   ]
  },
  {
   "cell_type": "code",
   "execution_count": null,
   "metadata": {},
   "outputs": [],
   "source": []
  }
 ],
 "metadata": {
  "kernelspec": {
   "display_name": "Python 3",
   "language": "python",
   "name": "python3"
  },
  "language_info": {
   "codemirror_mode": {
    "name": "ipython",
    "version": 3
   },
   "file_extension": ".py",
   "mimetype": "text/x-python",
   "name": "python",
   "nbconvert_exporter": "python",
   "pygments_lexer": "ipython3",
   "version": "3.6.9"
  },
  "toc": {
   "base_numbering": 1,
   "nav_menu": {},
   "number_sections": true,
   "sideBar": true,
   "skip_h1_title": false,
   "title_cell": "Table of Contents",
   "title_sidebar": "Contents",
   "toc_cell": false,
   "toc_position": {},
   "toc_section_display": true,
   "toc_window_display": false
  }
 },
 "nbformat": 4,
 "nbformat_minor": 2
}
