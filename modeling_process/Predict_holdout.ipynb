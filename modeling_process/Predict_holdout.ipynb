{
 "cells": [
  {
   "cell_type": "code",
   "execution_count": 43,
   "metadata": {},
   "outputs": [],
   "source": [
    "#import packages\n",
    "\n",
    "import pandas as pd\n",
    "import numpy as np\n",
    "import matplotlib.pyplot as plt\n",
    "from sklearn.preprocessing import StandardScaler, PolynomialFeatures\n",
    "from sklearn.linear_model import LinearRegression\n",
    "from sklearn import linear_model\n",
    "from statsmodels.stats.outliers_influence import variance_inflation_factor\n",
    "from sklearn.feature_selection import f_regression, mutual_info_regression, RFECV\n",
    "from sklearn.linear_model import Lasso\n",
    "import censusgeocode as cg\n",
    "import pickle\n",
    "\n",
    "# allow pandas to display more data\n",
    "pd.set_option('display.max_columns', 100)\n",
    "pd.set_option('display.max_rows', 100)"
   ]
  },
  {
   "cell_type": "markdown",
   "metadata": {},
   "source": [
    "## Read in hold out data, scalers, and best model"
   ]
  },
  {
   "cell_type": "code",
   "execution_count": 44,
   "metadata": {},
   "outputs": [],
   "source": [
    "# import holdout dataframe\n",
    "holdout = pd.read_csv('../provided_data/kc_house_data_test_features.csv', index_col=0)"
   ]
  },
  {
   "cell_type": "code",
   "execution_count": 45,
   "metadata": {},
   "outputs": [],
   "source": [
    "#load scaler\n",
    "file = open('../pickle_jar/scaler.pkl', 'rb')\n",
    "final_scaler = pickle.load(file)\n",
    "file.close()\n",
    "\n",
    "#load model\n",
    "file = open('../pickle_jar/model.pkl', 'rb')\n",
    "final_model = pickle.load(file)\n",
    "file.close()"
   ]
  },
  {
   "cell_type": "markdown",
   "metadata": {},
   "source": [
    "## Step 2: Feature Engineering for holdout set"
   ]
  },
  {
   "cell_type": "markdown",
   "metadata": {},
   "source": [
    "Transform and generate same features for holdout data as we did in model notebook "
   ]
  },
  {
   "cell_type": "code",
   "execution_count": 46,
   "metadata": {},
   "outputs": [],
   "source": [
    "# datetime conversion\n",
    "holdout['date'] = pd.to_datetime(holdout['date'], format=\"%Y%m%dT000000\")\n",
    "# fix incorrect data\n",
    "holdout['bedrooms'] = holdout['bedrooms'].replace({11:4, 33:3})\n",
    "# house to property ratio feature\n",
    "holdout['shack_living'] = np.where(holdout['sqft_living']/holdout['sqft_lot'] < .2, 1, 0)\n",
    "# how old it is\n",
    "holdout['yrs_old'] = 2020-holdout.yr_built\n",
    "# age feature creation\n",
    "holdout['age_feature'] = (holdout['yrs_old'] - 57)**2\n",
    "# grade_exp\n",
    "holdout['grade_exp'] = np.exp(holdout['grade'])\n",
    "# basement feature\n",
    "holdout['has_basement'] = np.where(holdout['sqft_basement'] == 0, 0, 1)\n",
    "# exponential grade feature\n",
    "holdout['grade_exp'] = np.exp(holdout['grade'])"
   ]
  },
  {
   "cell_type": "code",
   "execution_count": 47,
   "metadata": {},
   "outputs": [],
   "source": [
    "# season feature\n",
    "conditions = [holdout.date.dt.month.isin([1,2,9,11,12]), holdout.date.dt.month.isin([4,5,6])]\n",
    "choices = ['slow', 'busy']\n",
    "\n",
    "holdout['season'] = np.select(conditions, choices, default='normal')"
   ]
  },
  {
   "cell_type": "code",
   "execution_count": 48,
   "metadata": {},
   "outputs": [],
   "source": [
    "# condition feature\n",
    "conditions = [holdout['condition']<= 2, holdout['condition'].isin(range(3, 5)), holdout['condition'] == 5]\n",
    "choices = ['busted', 'aight', 'dope']\n",
    "\n",
    "holdout['cond_cat'] = np.select(conditions, choices, default = 'missing')"
   ]
  },
  {
   "cell_type": "code",
   "execution_count": 49,
   "metadata": {},
   "outputs": [],
   "source": [
    "# create dummy characters and concatenate to holdout dataframe\n",
    "season_dum = pd.get_dummies(holdout['season'], prefix='sn', drop_first=True)\n",
    "zipcode_dum = pd.get_dummies(holdout['zipcode'], prefix='zp', drop_first=True)\n",
    "cond_dum = pd.get_dummies(holdout['cond_cat'], prefix='condtn', drop_first=True)\n",
    "holdout = pd.concat([holdout, cond_dum, zipcode_dum, season_dum], 1)"
   ]
  },
  {
   "cell_type": "code",
   "execution_count": 50,
   "metadata": {},
   "outputs": [],
   "source": [
    "# create features subset that matches model from other notebook\n",
    "leave_out = ['id', 'date', 'season', 'price', 'cond_cat', 'sqft_lot', \n",
    "             'floors', 'view', 'condition', 'grade', 'sqft_above', \n",
    "             'sqft_basement', 'yr_built', 'yr_renovated', 'zipcode', \n",
    "             'yrs_old','lat', 'long', 'sqft_living15']\n",
    "\n",
    "features = [x for x in holdout.columns if x not in leave_out]"
   ]
  },
  {
   "cell_type": "code",
   "execution_count": 51,
   "metadata": {},
   "outputs": [],
   "source": [
    "# create polynomial features\n",
    "poly_2 = PolynomialFeatures(degree=2, include_bias=False)\n",
    "poly2_data = poly_2.fit_transform(holdout[features])\n",
    "poly2_columns = poly_2.get_feature_names(holdout[features].columns)\n",
    "holdout_poly2 = pd.DataFrame(poly2_data, columns = poly2_columns)"
   ]
  },
  {
   "cell_type": "markdown",
   "metadata": {},
   "source": [
    "## Scale holdout data to imported scaler"
   ]
  },
  {
   "cell_type": "code",
   "execution_count": 52,
   "metadata": {},
   "outputs": [],
   "source": [
    "transformed_holdout = final_scaler.transform(holdout_poly2)"
   ]
  },
  {
   "cell_type": "markdown",
   "metadata": {},
   "source": [
    "## Create predictions using the model on the holdout dataset"
   ]
  },
  {
   "cell_type": "code",
   "execution_count": 53,
   "metadata": {},
   "outputs": [],
   "source": [
    "final_answers = final_model.predict(transformed_holdout)"
   ]
  },
  {
   "cell_type": "markdown",
   "metadata": {},
   "source": [
    "## Export predictions"
   ]
  },
  {
   "cell_type": "code",
   "execution_count": 54,
   "metadata": {},
   "outputs": [],
   "source": [
    "pd.DataFrame(final_answers).to_csv('housing_preds.csv')"
   ]
  }
 ],
 "metadata": {
  "kernelspec": {
   "display_name": "Python 3",
   "language": "python",
   "name": "python3"
  },
  "language_info": {
   "codemirror_mode": {
    "name": "ipython",
    "version": 3
   },
   "file_extension": ".py",
   "mimetype": "text/x-python",
   "name": "python",
   "nbconvert_exporter": "python",
   "pygments_lexer": "ipython3",
   "version": "3.6.9"
  },
  "toc": {
   "base_numbering": 1,
   "nav_menu": {},
   "number_sections": false,
   "sideBar": true,
   "skip_h1_title": false,
   "title_cell": "Table of Contents",
   "title_sidebar": "Contents",
   "toc_cell": false,
   "toc_position": {},
   "toc_section_display": true,
   "toc_window_display": false
  }
 },
 "nbformat": 4,
 "nbformat_minor": 2
}
